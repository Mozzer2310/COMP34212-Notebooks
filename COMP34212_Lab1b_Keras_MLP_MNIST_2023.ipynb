{
  "cells": [
    {
      "cell_type": "markdown",
      "metadata": {
        "id": "view-in-github",
        "colab_type": "text"
      },
      "source": [
        "<a href=\"https://colab.research.google.com/github/Mozzer2310/COMP34212-Notebooks/blob/main/COMP34212_Lab1b_Keras_MLP_MNIST_2023.ipynb\" target=\"_parent\"><img src=\"https://colab.research.google.com/assets/colab-badge.svg\" alt=\"Open In Colab\"/></a>"
      ]
    },
    {
      "cell_type": "markdown",
      "metadata": {
        "id": "WWWn1oMdMP0d"
      },
      "source": [
        "MLP for Complex Problems: The MNIST dataset\n",
        "=========\n",
        "\n",
        "\n",
        "In this exercise we will first learn to use the simple perceptron network (input-output layers only) and a Multi-Layer Perceptron (MLP, with one or more hidden layers). To make the task more interesting than the XOR problem, we will be using a more complex training set. This will be the MNIST dataset, a well known neural network problem for the recognition of the 10 handwritten characters from 0 to 9 ([MNIST](http://yann.lecun.com/exdb/mnist/)).\n",
        "\n",
        "This exercise is based on the  Gulli & Pal (2017) 'Deep Learning with Keras' textbook, with some additional code to help us understand and test the programme.\n"
      ]
    },
    {
      "cell_type": "markdown",
      "metadata": {
        "id": "ezwPEU5UMP0o"
      },
      "source": [
        "**Importing the libraries and defining the main training parameters**\n",
        "\n",
        "The initial code is necessary to prepare the data and the simulation (hyper)parameters.\n",
        "We first import numpy. In our case we will use it to create and pre-process the array of the training data sets. We then import a few functions from Keras (we used some of these in our previous XOR exercise). The matplotlib library will be used for visualising some MNIST images and the plot of the training results.\n",
        "\n",
        "The code also defines the variables for some of the main parameters used throughout this program. \n",
        "The random seed definition is also important to be able to repeat the same parameter configuration."
      ]
    },
    {
      "cell_type": "code",
      "execution_count": 1,
      "metadata": {
        "id": "YpM98ckGMP0u"
      },
      "outputs": [],
      "source": [
        "# import of numpy and keras libraries\n",
        "from __future__ import print_function\n",
        "import numpy as np\n",
        "from tensorflow.keras.datasets import mnist\n",
        "from tensorflow.keras.models import Sequential\n",
        "from tensorflow.keras.layers import Dense, Activation\n",
        "from tensorflow.keras.optimizers.legacy import SGD\n",
        "from tensorflow.keras import utils\n",
        "import matplotlib.pyplot as plt\n",
        "\n",
        "# variables for network and training\n",
        "N_EPOCH = 200 # initially set at 200 ; you can change this later \n",
        "BATCH_SIZE = 128  \n",
        "VERBOSE = 1\n",
        "N_CLASSES = 10   # number of classes/categories of digits from 0 to 9, i.e. number of output units \n",
        "OPTIMIZER = SGD(learning_rate=0.1) # Stochastic gradient descent optimiser\n",
        "N_HIDDEN = 128   # number of hidden units\n",
        "VALIDATION_SPLIT=0.2 # proportion of the dataset used for validation, with remaining .8 for training \n",
        "\n",
        "#each 2D image consists of 28x28 values/pixels, which needs to be reshaped in a vector of 784 pixels\n",
        "RESHAPED = 784\n",
        "\n",
        "# random seed number to be used for reproducibility\n",
        "np.random.seed(1671)  \n"
      ]
    },
    {
      "cell_type": "markdown",
      "metadata": {
        "id": "2rgZEImMMP08"
      },
      "source": [
        "**Preparing the MNIST dataset and visualising the input images**\n",
        "\n",
        "This part of the code prepares the input and output training set, and the corresponding test sets. \n",
        "It also visualises a sample image. The MNIST dataset is included in the Keras program and we do not need to use and external file."
      ]
    },
    {
      "cell_type": "code",
      "execution_count": 2,
      "metadata": {
        "colab": {
          "base_uri": "https://localhost:8080/",
          "height": 1000
        },
        "id": "l4-TuW2_MP0-",
        "outputId": "4b94a849-1dc6-4a73-9ecb-8b0ade8d6c8d"
      },
      "outputs": [
        {
          "output_type": "stream",
          "name": "stdout",
          "text": [
            "Downloading data from https://storage.googleapis.com/tensorflow/tf-keras-datasets/mnist.npz\n",
            "11490434/11490434 [==============================] - 0s 0us/step\n",
            "Training data input shape:  (60000, 28, 28)\n",
            "Training data output shape:  (60000,)\n",
            "Test data input shape:  (10000, 28, 28)\n",
            "Test data ouput shape:  (10000,)\n",
            "Sample input image: [[  0   0   0   0   0   0   0   0   0   0   0   0   0   0   0   0   0   0\n",
            "    0   0   0   0   0   0   0   0   0   0]\n",
            " [  0   0   0   0   0   0   0   0   0   0   0   0   0   0   0   0   0   0\n",
            "    0   0   0   0   0   0   0   0   0   0]\n",
            " [  0   0   0   0   0   0   0   0   0   0   0   0   0   0   0   0   0   0\n",
            "    0   0   0   0   0   0   0   0   0   0]\n",
            " [  0   0   0   0   0   0   0   0   0   0   0   0   0   0   0   0   0   0\n",
            "    0   0   0   0   0   0   0   0   0   0]\n",
            " [  0   0   0   0   0   0   0   0   0   0   0   0   0   0   0   0   0   0\n",
            "    0   0   0   0   0   0   0   0   0   0]\n",
            " [  0   0   0   0   0   0   0   0   0   0   0   0   0   0   0   0   0   0\n",
            "    0   0  67 232  39   0   0   0   0   0]\n",
            " [  0   0   0   0  62  81   0   0   0   0   0   0   0   0   0   0   0   0\n",
            "    0   0 120 180  39   0   0   0   0   0]\n",
            " [  0   0   0   0 126 163   0   0   0   0   0   0   0   0   0   0   0   0\n",
            "    0   2 153 210  40   0   0   0   0   0]\n",
            " [  0   0   0   0 220 163   0   0   0   0   0   0   0   0   0   0   0   0\n",
            "    0  27 254 162   0   0   0   0   0   0]\n",
            " [  0   0   0   0 222 163   0   0   0   0   0   0   0   0   0   0   0   0\n",
            "    0 183 254 125   0   0   0   0   0   0]\n",
            " [  0   0   0  46 245 163   0   0   0   0   0   0   0   0   0   0   0   0\n",
            "    0 198 254  56   0   0   0   0   0   0]\n",
            " [  0   0   0 120 254 163   0   0   0   0   0   0   0   0   0   0   0   0\n",
            "   23 231 254  29   0   0   0   0   0   0]\n",
            " [  0   0   0 159 254 120   0   0   0   0   0   0   0   0   0   0   0   0\n",
            "  163 254 216  16   0   0   0   0   0   0]\n",
            " [  0   0   0 159 254  67   0   0   0   0   0   0   0   0   0  14  86 178\n",
            "  248 254  91   0   0   0   0   0   0   0]\n",
            " [  0   0   0 159 254  85   0   0   0  47  49 116 144 150 241 243 234 179\n",
            "  241 252  40   0   0   0   0   0   0   0]\n",
            " [  0   0   0 150 253 237 207 207 207 253 254 250 240 198 143  91  28   5\n",
            "  233 250   0   0   0   0   0   0   0   0]\n",
            " [  0   0   0   0 119 177 177 177 177 177  98  56   0   0   0   0   0 102\n",
            "  254 220   0   0   0   0   0   0   0   0]\n",
            " [  0   0   0   0   0   0   0   0   0   0   0   0   0   0   0   0   0 169\n",
            "  254 137   0   0   0   0   0   0   0   0]\n",
            " [  0   0   0   0   0   0   0   0   0   0   0   0   0   0   0   0   0 169\n",
            "  254  57   0   0   0   0   0   0   0   0]\n",
            " [  0   0   0   0   0   0   0   0   0   0   0   0   0   0   0   0   0 169\n",
            "  254  57   0   0   0   0   0   0   0   0]\n",
            " [  0   0   0   0   0   0   0   0   0   0   0   0   0   0   0   0   0 169\n",
            "  255  94   0   0   0   0   0   0   0   0]\n",
            " [  0   0   0   0   0   0   0   0   0   0   0   0   0   0   0   0   0 169\n",
            "  254  96   0   0   0   0   0   0   0   0]\n",
            " [  0   0   0   0   0   0   0   0   0   0   0   0   0   0   0   0   0 169\n",
            "  254 153   0   0   0   0   0   0   0   0]\n",
            " [  0   0   0   0   0   0   0   0   0   0   0   0   0   0   0   0   0 169\n",
            "  255 153   0   0   0   0   0   0   0   0]\n",
            " [  0   0   0   0   0   0   0   0   0   0   0   0   0   0   0   0   0  96\n",
            "  254 153   0   0   0   0   0   0   0   0]\n",
            " [  0   0   0   0   0   0   0   0   0   0   0   0   0   0   0   0   0   0\n",
            "    0   0   0   0   0   0   0   0   0   0]\n",
            " [  0   0   0   0   0   0   0   0   0   0   0   0   0   0   0   0   0   0\n",
            "    0   0   0   0   0   0   0   0   0   0]\n",
            " [  0   0   0   0   0   0   0   0   0   0   0   0   0   0   0   0   0   0\n",
            "    0   0   0   0   0   0   0   0   0   0]]\n"
          ]
        },
        {
          "output_type": "display_data",
          "data": {
            "text/plain": [
              "<Figure size 432x288 with 1 Axes>"
            ],
            "image/png": "[encoded data removed]"
          },
          "metadata": {
            "needs_background": "light"
          }
        }
      ],
      "source": [
        "\n",
        "# data: shuffled and split between train and test sets, loading and using the Keras mnist dataset\n",
        "(input_X_train, output_Y_train), (input_X_test, output_Y_test) = mnist.load_data()\n",
        "\n",
        "# print the shapes of the input and output data\n",
        "print(\"Training data input shape: \" , input_X_train.shape)\n",
        "print(\"Training data output shape: \" , output_Y_train.shape)\n",
        "print(\"Test data input shape: \" , input_X_test.shape)\n",
        "print(\"Test data ouput shape: \" , output_Y_test.shape)\n",
        "\n",
        "# visualisation of the numerical vector and plot of a selected image\n",
        "Selected_Image = 2\n",
        "image = input_X_train[Selected_Image]\n",
        "print (\"Sample input image: \" + str(image))\n",
        "plt.imshow(image, cmap='gray')\n",
        "plt.show() \n"
      ]
    },
    {
      "cell_type": "markdown",
      "metadata": {
        "id": "cDqNl3taMP1P"
      },
      "source": [
        "The input images now have to be reshaped as a linear vector. That is, we go from a 2D image of 28x28 pixels, to a linear vector of 784 (i.e. 28*28) pixels, to be passed as the 784 input units. Moreover, the initial pixel grey values given as type __int__ in the range 0-255 will be normalised to the __float32__ type in the range 0-1. \n"
      ]
    },
    {
      "cell_type": "code",
      "execution_count": 3,
      "metadata": {
        "colab": {
          "base_uri": "https://localhost:8080/"
        },
        "id": "fB15FrXOMP1R",
        "outputId": "62fe7eaa-c628-469f-8bc5-46e2839246f3"
      },
      "outputs": [
        {
          "output_type": "stream",
          "name": "stdout",
          "text": [
            "Input data ready\n"
          ]
        }
      ],
      "source": [
        "# use 60000 images for training, 10000 for validation test\n",
        "input_X_train = input_X_train.reshape(60000, RESHAPED)\n",
        "input_X_test = input_X_test.reshape(10000, RESHAPED)\n",
        "input_X_train = input_X_train.astype('float32')\n",
        "input_X_test = input_X_test.astype('float32')\n",
        "\n",
        "# normalisation of the pixel values from 0-255 range to 0-1 range \n",
        "input_X_train /= 255\n",
        "input_X_test /= 255\n",
        "\n",
        "print (\"Input data ready\")"
      ]
    },
    {
      "cell_type": "markdown",
      "metadata": {
        "id": "KsCwC5y7MP1Z"
      },
      "source": [
        "**Preparing the output labels**\n",
        "\n",
        "This code converts the output data into categorical (one-hot encoding) vectors of 0s and 1s.\n",
        "See example of the visualisation of the one-hot vector for the selected image."
      ]
    },
    {
      "cell_type": "code",
      "execution_count": 4,
      "metadata": {
        "colab": {
          "base_uri": "https://localhost:8080/"
        },
        "id": "Rc4dgAqqMP1c",
        "outputId": "636a21df-6243-4c99-97a4-19c22fb4f5c7"
      },
      "outputs": [
        {
          "output_type": "stream",
          "name": "stdout",
          "text": [
            "One-hot-vector: [0. 0. 0. 0. 1. 0. 0. 0. 0. 0.]\n"
          ]
        }
      ],
      "source": [
        "# convert class vectors to binary class matrices\n",
        "output_Y_train = utils.to_categorical(output_Y_train, N_CLASSES)\n",
        "output_Y_test = utils.to_categorical(output_Y_test, N_CLASSES)\n",
        "\n",
        "# print the categorical, one-hot output vector for the sample image\n",
        "label = output_Y_train[Selected_Image]\n",
        "print (\"One-hot-vector: \" + str(label))"
      ]
    },
    {
      "cell_type": "markdown",
      "metadata": {
        "id": "h-rcBfv8MP1q"
      },
      "source": [
        "Training the Simple Perceptron\n",
        "=========\n",
        "\n",
        "**Defining the network: Simple Perceptron**\n",
        "\n",
        "We will start by training a simple perceptron, i.e. a network with an input layer (the 784 input values/pixels) connected to the output layer (the 10 number classes)"
      ]
    },
    {
      "cell_type": "code",
      "execution_count": 5,
      "metadata": {
        "colab": {
          "base_uri": "https://localhost:8080/"
        },
        "id": "HTb4RC7zMP1s",
        "outputId": "ee682a15-852f-4569-8ff5-286a110f876b"
      },
      "outputs": [
        {
          "output_type": "stream",
          "name": "stdout",
          "text": [
            "Model: \"sequential\"\n",
            "_________________________________________________________________\n",
            " Layer (type)                Output Shape              Param #   \n",
            "=================================================================\n",
            " dense (Dense)               (None, 10)                7850      \n",
            "                                                                 \n",
            " activation (Activation)     (None, 10)                0         \n",
            "                                                                 \n",
            "=================================================================\n",
            "Total params: 7,850\n",
            "Trainable params: 7,850\n",
            "Non-trainable params: 0\n",
            "_________________________________________________________________\n"
          ]
        }
      ],
      "source": [
        "# Defaults sequential model\n",
        "model = Sequential()\n",
        "\n",
        "# Dense layer for all to all connections\n",
        "# Define the output layer with 10 output units, and softmax activation as categorical output\n",
        "model.add(Dense(N_CLASSES, input_shape=(RESHAPED,)))\n",
        "model.add(Activation('softmax'))\n",
        "\n",
        "# Use categorical crossentropy for the loss evaluation, and the accuracy metrics\n",
        "# we previously chose the SGD optimiser in the OPTIMIZER variable definition  \n",
        "model.compile(loss='categorical_crossentropy', optimizer=OPTIMIZER, metrics=['accuracy'])\n",
        "\n",
        "#show the model summary\n",
        "model.summary()\n"
      ]
    },
    {
      "cell_type": "markdown",
      "metadata": {
        "id": "uHyq0YoRMP1y"
      },
      "source": [
        "**Let's train the simple perceptron network**\n",
        "\n",
        "Let's now train (fit) the network with the above-defined batch size (128), and number of epochs (200). We save the training results into the history variable.\n",
        "\n",
        "Here we use the previous __VALIDATION_SPLIT=0.2__ definition to split the dataset into a 20% (0.2) validation set and the remaning 80% as training set. "
      ]
    },
    {
      "cell_type": "code",
      "execution_count": 6,
      "metadata": {
        "colab": {
          "base_uri": "https://localhost:8080/"
        },
        "id": "lg3RCFukMP10",
        "outputId": "3cbdcf4d-7dee-4c8a-f70c-37382655ec37"
      },
      "outputs": [
        {
          "output_type": "stream",
          "name": "stdout",
          "text": [
            "Epoch 1/200\n",
            "375/375 [==============================] - 10s 20ms/step - loss: 0.6259 - accuracy: 0.8448 - val_loss: 0.3974 - val_accuracy: 0.8954\n",
            "Epoch 2/200\n",
            "375/375 [==============================] - 2s 4ms/step - loss: 0.3946 - accuracy: 0.8932 - val_loss: 0.3478 - val_accuracy: 0.9054\n",
            "Epoch 3/200\n",
            "375/375 [==============================] - 2s 5ms/step - loss: 0.3585 - accuracy: 0.9005 - val_loss: 0.3282 - val_accuracy: 0.9090\n",
            "Epoch 4/200\n",
            "375/375 [==============================] - 2s 4ms/step - loss: 0.3398 - accuracy: 0.9056 - val_loss: 0.3154 - val_accuracy: 0.9141\n",
            "Epoch 5/200\n",
            "375/375 [==============================] - 1s 4ms/step - loss: 0.3278 - accuracy: 0.9085 - val_loss: 0.3076 - val_accuracy: 0.9143\n",
            "Epoch 6/200\n",
            "375/375 [==============================] - 1s 3ms/step - loss: 0.3191 - accuracy: 0.9114 - val_loss: 0.3010 - val_accuracy: 0.9155\n",
            "Epoch 7/200\n",
            "375/375 [==============================] - 1s 3ms/step - loss: 0.3125 - accuracy: 0.9131 - val_loss: 0.2978 - val_accuracy: 0.9176\n",
            "Epoch 8/200\n",
            "375/375 [==============================] - 1s 4ms/step - loss: 0.3074 - accuracy: 0.9148 - val_loss: 0.2940 - val_accuracy: 0.9181\n",
            "Epoch 9/200\n",
            "375/375 [==============================] - 1s 3ms/step - loss: 0.3028 - accuracy: 0.9153 - val_loss: 0.2913 - val_accuracy: 0.9192\n",
            "Epoch 10/200\n",
            "375/375 [==============================] - 1s 3ms/step - loss: 0.2993 - accuracy: 0.9168 - val_loss: 0.2881 - val_accuracy: 0.9200\n",
            "Epoch 11/200\n",
            "375/375 [==============================] - 1s 3ms/step - loss: 0.2961 - accuracy: 0.9174 - val_loss: 0.2871 - val_accuracy: 0.9195\n",
            "Epoch 12/200\n",
            "375/375 [==============================] - 2s 5ms/step - loss: 0.2934 - accuracy: 0.9179 - val_loss: 0.2839 - val_accuracy: 0.9210\n",
            "Epoch 13/200\n",
            "375/375 [==============================] - 1s 4ms/step - loss: 0.2907 - accuracy: 0.9181 - val_loss: 0.2830 - val_accuracy: 0.9228\n",
            "Epoch 14/200\n",
            "375/375 [==============================] - 1s 3ms/step - loss: 0.2887 - accuracy: 0.9193 - val_loss: 0.2817 - val_accuracy: 0.9219\n",
            "Epoch 15/200\n",
            "375/375 [==============================] - 1s 4ms/step - loss: 0.2868 - accuracy: 0.9202 - val_loss: 0.2802 - val_accuracy: 0.9221\n",
            "Epoch 16/200\n",
            "375/375 [==============================] - 1s 4ms/step - loss: 0.2850 - accuracy: 0.9202 - val_loss: 0.2793 - val_accuracy: 0.9223\n",
            "Epoch 17/200\n",
            "375/375 [==============================] - 1s 3ms/step - loss: 0.2832 - accuracy: 0.9205 - val_loss: 0.2779 - val_accuracy: 0.9222\n",
            "Epoch 18/200\n",
            "375/375 [==============================] - 1s 3ms/step - loss: 0.2818 - accuracy: 0.9209 - val_loss: 0.2771 - val_accuracy: 0.9226\n",
            "Epoch 19/200\n",
            "375/375 [==============================] - 1s 3ms/step - loss: 0.2804 - accuracy: 0.9218 - val_loss: 0.2769 - val_accuracy: 0.9227\n",
            "Epoch 20/200\n",
            "375/375 [==============================] - 1s 4ms/step - loss: 0.2791 - accuracy: 0.9220 - val_loss: 0.2764 - val_accuracy: 0.9237\n",
            "Epoch 21/200\n",
            "375/375 [==============================] - 2s 5ms/step - loss: 0.2780 - accuracy: 0.9222 - val_loss: 0.2747 - val_accuracy: 0.9239\n",
            "Epoch 22/200\n",
            "375/375 [==============================] - 2s 4ms/step - loss: 0.2767 - accuracy: 0.9234 - val_loss: 0.2749 - val_accuracy: 0.9242\n",
            "Epoch 23/200\n",
            "375/375 [==============================] - 1s 4ms/step - loss: 0.2757 - accuracy: 0.9231 - val_loss: 0.2745 - val_accuracy: 0.9240\n",
            "Epoch 24/200\n",
            "375/375 [==============================] - 1s 4ms/step - loss: 0.2746 - accuracy: 0.9233 - val_loss: 0.2733 - val_accuracy: 0.9248\n",
            "Epoch 25/200\n",
            "375/375 [==============================] - 1s 3ms/step - loss: 0.2737 - accuracy: 0.9235 - val_loss: 0.2732 - val_accuracy: 0.9235\n",
            "Epoch 26/200\n",
            "375/375 [==============================] - 1s 4ms/step - loss: 0.2728 - accuracy: 0.9239 - val_loss: 0.2725 - val_accuracy: 0.9243\n",
            "Epoch 27/200\n",
            "375/375 [==============================] - 1s 3ms/step - loss: 0.2720 - accuracy: 0.9244 - val_loss: 0.2732 - val_accuracy: 0.9250\n",
            "Epoch 28/200\n",
            "375/375 [==============================] - 1s 4ms/step - loss: 0.2712 - accuracy: 0.9250 - val_loss: 0.2711 - val_accuracy: 0.9247\n",
            "Epoch 29/200\n",
            "375/375 [==============================] - 1s 3ms/step - loss: 0.2705 - accuracy: 0.9246 - val_loss: 0.2723 - val_accuracy: 0.9251\n",
            "Epoch 30/200\n",
            "375/375 [==============================] - 2s 5ms/step - loss: 0.2697 - accuracy: 0.9244 - val_loss: 0.2708 - val_accuracy: 0.9256\n",
            "Epoch 31/200\n",
            "375/375 [==============================] - 2s 5ms/step - loss: 0.2688 - accuracy: 0.9247 - val_loss: 0.2701 - val_accuracy: 0.9240\n",
            "Epoch 32/200\n",
            "375/375 [==============================] - 1s 3ms/step - loss: 0.2684 - accuracy: 0.9254 - val_loss: 0.2701 - val_accuracy: 0.9249\n",
            "Epoch 33/200\n",
            "375/375 [==============================] - 1s 3ms/step - loss: 0.2674 - accuracy: 0.9251 - val_loss: 0.2695 - val_accuracy: 0.9267\n",
            "Epoch 34/200\n",
            "375/375 [==============================] - 1s 3ms/step - loss: 0.2670 - accuracy: 0.9258 - val_loss: 0.2705 - val_accuracy: 0.9251\n",
            "Epoch 35/200\n",
            "375/375 [==============================] - 1s 3ms/step - loss: 0.2662 - accuracy: 0.9261 - val_loss: 0.2697 - val_accuracy: 0.9262\n",
            "Epoch 36/200\n",
            "375/375 [==============================] - 1s 3ms/step - loss: 0.2658 - accuracy: 0.9262 - val_loss: 0.2697 - val_accuracy: 0.9256\n",
            "Epoch 37/200\n",
            "375/375 [==============================] - 1s 3ms/step - loss: 0.2651 - accuracy: 0.9256 - val_loss: 0.2694 - val_accuracy: 0.9262\n",
            "Epoch 38/200\n",
            "375/375 [==============================] - 1s 3ms/step - loss: 0.2647 - accuracy: 0.9261 - val_loss: 0.2691 - val_accuracy: 0.9261\n",
            "Epoch 39/200\n",
            "375/375 [==============================] - 1s 4ms/step - loss: 0.2640 - accuracy: 0.9261 - val_loss: 0.2693 - val_accuracy: 0.9262\n",
            "Epoch 40/200\n",
            "375/375 [==============================] - 2s 5ms/step - loss: 0.2636 - accuracy: 0.9268 - val_loss: 0.2685 - val_accuracy: 0.9264\n",
            "Epoch 41/200\n",
            "375/375 [==============================] - 1s 4ms/step - loss: 0.2630 - accuracy: 0.9265 - val_loss: 0.2688 - val_accuracy: 0.9275\n",
            "Epoch 42/200\n",
            "375/375 [==============================] - 1s 4ms/step - loss: 0.2627 - accuracy: 0.9268 - val_loss: 0.2683 - val_accuracy: 0.9263\n",
            "Epoch 43/200\n",
            "375/375 [==============================] - 1s 3ms/step - loss: 0.2623 - accuracy: 0.9274 - val_loss: 0.2682 - val_accuracy: 0.9266\n",
            "Epoch 44/200\n",
            "375/375 [==============================] - 1s 3ms/step - loss: 0.2618 - accuracy: 0.9273 - val_loss: 0.2694 - val_accuracy: 0.9258\n",
            "Epoch 45/200\n",
            "375/375 [==============================] - 1s 4ms/step - loss: 0.2615 - accuracy: 0.9271 - val_loss: 0.2683 - val_accuracy: 0.9262\n",
            "Epoch 46/200\n",
            "375/375 [==============================] - 1s 3ms/step - loss: 0.2609 - accuracy: 0.9278 - val_loss: 0.2684 - val_accuracy: 0.9265\n",
            "Epoch 47/200\n",
            "375/375 [==============================] - 1s 3ms/step - loss: 0.2603 - accuracy: 0.9276 - val_loss: 0.2679 - val_accuracy: 0.9265\n",
            "Epoch 48/200\n",
            "375/375 [==============================] - 1s 3ms/step - loss: 0.2602 - accuracy: 0.9273 - val_loss: 0.2679 - val_accuracy: 0.9261\n",
            "Epoch 49/200\n",
            "375/375 [==============================] - 2s 5ms/step - loss: 0.2598 - accuracy: 0.9278 - val_loss: 0.2679 - val_accuracy: 0.9262\n",
            "Epoch 50/200\n",
            "375/375 [==============================] - 2s 4ms/step - loss: 0.2594 - accuracy: 0.9278 - val_loss: 0.2672 - val_accuracy: 0.9272\n",
            "Epoch 51/200\n",
            "375/375 [==============================] - 1s 4ms/step - loss: 0.2590 - accuracy: 0.9274 - val_loss: 0.2673 - val_accuracy: 0.9273\n",
            "Epoch 52/200\n",
            "375/375 [==============================] - 1s 4ms/step - loss: 0.2588 - accuracy: 0.9277 - val_loss: 0.2669 - val_accuracy: 0.9273\n",
            "Epoch 53/200\n",
            "375/375 [==============================] - 1s 4ms/step - loss: 0.2581 - accuracy: 0.9282 - val_loss: 0.2679 - val_accuracy: 0.9270\n",
            "Epoch 54/200\n",
            "375/375 [==============================] - 1s 3ms/step - loss: 0.2581 - accuracy: 0.9280 - val_loss: 0.2668 - val_accuracy: 0.9283\n",
            "Epoch 55/200\n",
            "375/375 [==============================] - 1s 4ms/step - loss: 0.2577 - accuracy: 0.9283 - val_loss: 0.2669 - val_accuracy: 0.9270\n",
            "Epoch 56/200\n",
            "375/375 [==============================] - 1s 3ms/step - loss: 0.2573 - accuracy: 0.9283 - val_loss: 0.2672 - val_accuracy: 0.9276\n",
            "Epoch 57/200\n",
            "375/375 [==============================] - 1s 4ms/step - loss: 0.2569 - accuracy: 0.9286 - val_loss: 0.2673 - val_accuracy: 0.9274\n",
            "Epoch 58/200\n",
            "375/375 [==============================] - 2s 5ms/step - loss: 0.2568 - accuracy: 0.9282 - val_loss: 0.2663 - val_accuracy: 0.9267\n",
            "Epoch 59/200\n",
            "375/375 [==============================] - 2s 4ms/step - loss: 0.2563 - accuracy: 0.9290 - val_loss: 0.2665 - val_accuracy: 0.9277\n",
            "Epoch 60/200\n",
            "375/375 [==============================] - 1s 3ms/step - loss: 0.2558 - accuracy: 0.9287 - val_loss: 0.2672 - val_accuracy: 0.9266\n",
            "Epoch 61/200\n",
            "375/375 [==============================] - 1s 3ms/step - loss: 0.2558 - accuracy: 0.9284 - val_loss: 0.2666 - val_accuracy: 0.9279\n",
            "Epoch 62/200\n",
            "375/375 [==============================] - 1s 4ms/step - loss: 0.2554 - accuracy: 0.9285 - val_loss: 0.2676 - val_accuracy: 0.9269\n",
            "Epoch 63/200\n",
            "375/375 [==============================] - 1s 3ms/step - loss: 0.2552 - accuracy: 0.9295 - val_loss: 0.2667 - val_accuracy: 0.9272\n",
            "Epoch 64/200\n",
            "375/375 [==============================] - 1s 3ms/step - loss: 0.2549 - accuracy: 0.9291 - val_loss: 0.2666 - val_accuracy: 0.9283\n",
            "Epoch 65/200\n",
            "375/375 [==============================] - 1s 3ms/step - loss: 0.2545 - accuracy: 0.9292 - val_loss: 0.2666 - val_accuracy: 0.9283\n",
            "Epoch 66/200\n",
            "375/375 [==============================] - 1s 3ms/step - loss: 0.2543 - accuracy: 0.9288 - val_loss: 0.2660 - val_accuracy: 0.9277\n",
            "Epoch 67/200\n",
            "375/375 [==============================] - 2s 4ms/step - loss: 0.2539 - accuracy: 0.9292 - val_loss: 0.2664 - val_accuracy: 0.9291\n",
            "Epoch 68/200\n",
            "375/375 [==============================] - 2s 5ms/step - loss: 0.2538 - accuracy: 0.9290 - val_loss: 0.2672 - val_accuracy: 0.9273\n",
            "Epoch 69/200\n",
            "375/375 [==============================] - 1s 3ms/step - loss: 0.2538 - accuracy: 0.9290 - val_loss: 0.2657 - val_accuracy: 0.9285\n",
            "Epoch 70/200\n",
            "375/375 [==============================] - 1s 3ms/step - loss: 0.2531 - accuracy: 0.9295 - val_loss: 0.2679 - val_accuracy: 0.9272\n",
            "Epoch 71/200\n",
            "375/375 [==============================] - 2s 4ms/step - loss: 0.2531 - accuracy: 0.9294 - val_loss: 0.2657 - val_accuracy: 0.9278\n",
            "Epoch 72/200\n",
            "375/375 [==============================] - 2s 6ms/step - loss: 0.2529 - accuracy: 0.9300 - val_loss: 0.2663 - val_accuracy: 0.9276\n",
            "Epoch 73/200\n",
            "375/375 [==============================] - 1s 3ms/step - loss: 0.2525 - accuracy: 0.9298 - val_loss: 0.2669 - val_accuracy: 0.9286\n",
            "Epoch 74/200\n",
            "375/375 [==============================] - 1s 3ms/step - loss: 0.2524 - accuracy: 0.9299 - val_loss: 0.2661 - val_accuracy: 0.9273\n",
            "Epoch 75/200\n",
            "375/375 [==============================] - 1s 3ms/step - loss: 0.2522 - accuracy: 0.9296 - val_loss: 0.2669 - val_accuracy: 0.9277\n",
            "Epoch 76/200\n",
            "375/375 [==============================] - 2s 5ms/step - loss: 0.2520 - accuracy: 0.9294 - val_loss: 0.2657 - val_accuracy: 0.9288\n",
            "Epoch 77/200\n",
            "375/375 [==============================] - 2s 4ms/step - loss: 0.2517 - accuracy: 0.9298 - val_loss: 0.2670 - val_accuracy: 0.9273\n",
            "Epoch 78/200\n",
            "375/375 [==============================] - 1s 4ms/step - loss: 0.2515 - accuracy: 0.9302 - val_loss: 0.2659 - val_accuracy: 0.9284\n",
            "Epoch 79/200\n",
            "375/375 [==============================] - 1s 3ms/step - loss: 0.2512 - accuracy: 0.9302 - val_loss: 0.2675 - val_accuracy: 0.9274\n",
            "Epoch 80/200\n",
            "375/375 [==============================] - 1s 3ms/step - loss: 0.2511 - accuracy: 0.9302 - val_loss: 0.2658 - val_accuracy: 0.9290\n",
            "Epoch 81/200\n",
            "375/375 [==============================] - 1s 4ms/step - loss: 0.2507 - accuracy: 0.9299 - val_loss: 0.2657 - val_accuracy: 0.9282\n",
            "Epoch 82/200\n",
            "375/375 [==============================] - 1s 3ms/step - loss: 0.2506 - accuracy: 0.9302 - val_loss: 0.2656 - val_accuracy: 0.9287\n",
            "Epoch 83/200\n",
            "375/375 [==============================] - 1s 4ms/step - loss: 0.2506 - accuracy: 0.9307 - val_loss: 0.2662 - val_accuracy: 0.9283\n",
            "Epoch 84/200\n",
            "375/375 [==============================] - 1s 4ms/step - loss: 0.2502 - accuracy: 0.9300 - val_loss: 0.2661 - val_accuracy: 0.9286\n",
            "Epoch 85/200\n",
            "375/375 [==============================] - 2s 5ms/step - loss: 0.2501 - accuracy: 0.9306 - val_loss: 0.2659 - val_accuracy: 0.9288\n",
            "Epoch 86/200\n",
            "375/375 [==============================] - 2s 4ms/step - loss: 0.2500 - accuracy: 0.9302 - val_loss: 0.2659 - val_accuracy: 0.9289\n",
            "Epoch 87/200\n",
            "375/375 [==============================] - 1s 3ms/step - loss: 0.2496 - accuracy: 0.9306 - val_loss: 0.2660 - val_accuracy: 0.9290\n",
            "Epoch 88/200\n",
            "375/375 [==============================] - 1s 3ms/step - loss: 0.2496 - accuracy: 0.9308 - val_loss: 0.2658 - val_accuracy: 0.9286\n",
            "Epoch 89/200\n",
            "375/375 [==============================] - 1s 4ms/step - loss: 0.2493 - accuracy: 0.9305 - val_loss: 0.2656 - val_accuracy: 0.9284\n",
            "Epoch 90/200\n",
            "375/375 [==============================] - 1s 4ms/step - loss: 0.2491 - accuracy: 0.9306 - val_loss: 0.2652 - val_accuracy: 0.9287\n",
            "Epoch 91/200\n",
            "375/375 [==============================] - 1s 4ms/step - loss: 0.2489 - accuracy: 0.9308 - val_loss: 0.2680 - val_accuracy: 0.9273\n",
            "Epoch 92/200\n",
            "375/375 [==============================] - 1s 4ms/step - loss: 0.2487 - accuracy: 0.9309 - val_loss: 0.2677 - val_accuracy: 0.9272\n",
            "Epoch 93/200\n",
            "375/375 [==============================] - 1s 3ms/step - loss: 0.2485 - accuracy: 0.9311 - val_loss: 0.2662 - val_accuracy: 0.9287\n",
            "Epoch 94/200\n",
            "375/375 [==============================] - 2s 5ms/step - loss: 0.2484 - accuracy: 0.9307 - val_loss: 0.2653 - val_accuracy: 0.9292\n",
            "Epoch 95/200\n",
            "375/375 [==============================] - 2s 4ms/step - loss: 0.2482 - accuracy: 0.9305 - val_loss: 0.2660 - val_accuracy: 0.9276\n",
            "Epoch 96/200\n",
            "375/375 [==============================] - 1s 4ms/step - loss: 0.2482 - accuracy: 0.9312 - val_loss: 0.2657 - val_accuracy: 0.9289\n",
            "Epoch 97/200\n",
            "375/375 [==============================] - 1s 3ms/step - loss: 0.2479 - accuracy: 0.9311 - val_loss: 0.2656 - val_accuracy: 0.9289\n",
            "Epoch 98/200\n",
            "375/375 [==============================] - 1s 3ms/step - loss: 0.2477 - accuracy: 0.9313 - val_loss: 0.2653 - val_accuracy: 0.9286\n",
            "Epoch 99/200\n",
            "375/375 [==============================] - 1s 3ms/step - loss: 0.2477 - accuracy: 0.9308 - val_loss: 0.2662 - val_accuracy: 0.9284\n",
            "Epoch 100/200\n",
            "375/375 [==============================] - 1s 3ms/step - loss: 0.2474 - accuracy: 0.9311 - val_loss: 0.2664 - val_accuracy: 0.9293\n",
            "Epoch 101/200\n",
            "375/375 [==============================] - 1s 4ms/step - loss: 0.2472 - accuracy: 0.9316 - val_loss: 0.2651 - val_accuracy: 0.9291\n",
            "Epoch 102/200\n",
            "375/375 [==============================] - 1s 4ms/step - loss: 0.2472 - accuracy: 0.9313 - val_loss: 0.2661 - val_accuracy: 0.9287\n",
            "Epoch 103/200\n",
            "375/375 [==============================] - 2s 5ms/step - loss: 0.2469 - accuracy: 0.9312 - val_loss: 0.2665 - val_accuracy: 0.9276\n",
            "Epoch 104/200\n",
            "375/375 [==============================] - 2s 5ms/step - loss: 0.2467 - accuracy: 0.9310 - val_loss: 0.2662 - val_accuracy: 0.9291\n",
            "Epoch 105/200\n",
            "375/375 [==============================] - 1s 4ms/step - loss: 0.2469 - accuracy: 0.9312 - val_loss: 0.2657 - val_accuracy: 0.9291\n",
            "Epoch 106/200\n",
            "375/375 [==============================] - 1s 4ms/step - loss: 0.2464 - accuracy: 0.9312 - val_loss: 0.2666 - val_accuracy: 0.9277\n",
            "Epoch 107/200\n",
            "375/375 [==============================] - 1s 4ms/step - loss: 0.2462 - accuracy: 0.9317 - val_loss: 0.2670 - val_accuracy: 0.9281\n",
            "Epoch 108/200\n",
            "375/375 [==============================] - 1s 3ms/step - loss: 0.2461 - accuracy: 0.9317 - val_loss: 0.2661 - val_accuracy: 0.9289\n",
            "Epoch 109/200\n",
            "375/375 [==============================] - 1s 3ms/step - loss: 0.2460 - accuracy: 0.9314 - val_loss: 0.2661 - val_accuracy: 0.9289\n",
            "Epoch 110/200\n",
            "375/375 [==============================] - 1s 4ms/step - loss: 0.2459 - accuracy: 0.9319 - val_loss: 0.2664 - val_accuracy: 0.9286\n",
            "Epoch 111/200\n",
            "375/375 [==============================] - 1s 4ms/step - loss: 0.2457 - accuracy: 0.9317 - val_loss: 0.2667 - val_accuracy: 0.9287\n",
            "Epoch 112/200\n",
            "375/375 [==============================] - 2s 5ms/step - loss: 0.2455 - accuracy: 0.9311 - val_loss: 0.2656 - val_accuracy: 0.9292\n",
            "Epoch 113/200\n",
            "375/375 [==============================] - 2s 4ms/step - loss: 0.2456 - accuracy: 0.9316 - val_loss: 0.2672 - val_accuracy: 0.9287\n",
            "Epoch 114/200\n",
            "375/375 [==============================] - 1s 3ms/step - loss: 0.2453 - accuracy: 0.9316 - val_loss: 0.2666 - val_accuracy: 0.9283\n",
            "Epoch 115/200\n",
            "375/375 [==============================] - 1s 3ms/step - loss: 0.2453 - accuracy: 0.9314 - val_loss: 0.2658 - val_accuracy: 0.9292\n",
            "Epoch 116/200\n",
            "375/375 [==============================] - 1s 4ms/step - loss: 0.2451 - accuracy: 0.9315 - val_loss: 0.2666 - val_accuracy: 0.9283\n",
            "Epoch 117/200\n",
            "375/375 [==============================] - 1s 4ms/step - loss: 0.2450 - accuracy: 0.9319 - val_loss: 0.2661 - val_accuracy: 0.9296\n",
            "Epoch 118/200\n",
            "375/375 [==============================] - 1s 3ms/step - loss: 0.2446 - accuracy: 0.9323 - val_loss: 0.2663 - val_accuracy: 0.9286\n",
            "Epoch 119/200\n",
            "375/375 [==============================] - 1s 3ms/step - loss: 0.2448 - accuracy: 0.9319 - val_loss: 0.2667 - val_accuracy: 0.9293\n",
            "Epoch 120/200\n",
            "375/375 [==============================] - 1s 3ms/step - loss: 0.2446 - accuracy: 0.9316 - val_loss: 0.2668 - val_accuracy: 0.9282\n",
            "Epoch 121/200\n",
            "375/375 [==============================] - 2s 5ms/step - loss: 0.2444 - accuracy: 0.9323 - val_loss: 0.2671 - val_accuracy: 0.9279\n",
            "Epoch 122/200\n",
            "375/375 [==============================] - 2s 4ms/step - loss: 0.2443 - accuracy: 0.9324 - val_loss: 0.2659 - val_accuracy: 0.9292\n",
            "Epoch 123/200\n",
            "375/375 [==============================] - 1s 4ms/step - loss: 0.2441 - accuracy: 0.9325 - val_loss: 0.2677 - val_accuracy: 0.9277\n",
            "Epoch 124/200\n",
            "375/375 [==============================] - 1s 4ms/step - loss: 0.2440 - accuracy: 0.9319 - val_loss: 0.2671 - val_accuracy: 0.9284\n",
            "Epoch 125/200\n",
            "375/375 [==============================] - 1s 3ms/step - loss: 0.2440 - accuracy: 0.9323 - val_loss: 0.2667 - val_accuracy: 0.9287\n",
            "Epoch 126/200\n",
            "375/375 [==============================] - 1s 3ms/step - loss: 0.2437 - accuracy: 0.9324 - val_loss: 0.2662 - val_accuracy: 0.9285\n",
            "Epoch 127/200\n",
            "375/375 [==============================] - 1s 3ms/step - loss: 0.2438 - accuracy: 0.9320 - val_loss: 0.2659 - val_accuracy: 0.9291\n",
            "Epoch 128/200\n",
            "375/375 [==============================] - 1s 4ms/step - loss: 0.2436 - accuracy: 0.9319 - val_loss: 0.2663 - val_accuracy: 0.9290\n",
            "Epoch 129/200\n",
            "375/375 [==============================] - 1s 4ms/step - loss: 0.2434 - accuracy: 0.9321 - val_loss: 0.2663 - val_accuracy: 0.9286\n",
            "Epoch 130/200\n",
            "375/375 [==============================] - 2s 5ms/step - loss: 0.2435 - accuracy: 0.9323 - val_loss: 0.2661 - val_accuracy: 0.9282\n",
            "Epoch 131/200\n",
            "375/375 [==============================] - 2s 5ms/step - loss: 0.2433 - accuracy: 0.9324 - val_loss: 0.2664 - val_accuracy: 0.9281\n",
            "Epoch 132/200\n",
            "375/375 [==============================] - 1s 4ms/step - loss: 0.2432 - accuracy: 0.9322 - val_loss: 0.2673 - val_accuracy: 0.9279\n",
            "Epoch 133/200\n",
            "375/375 [==============================] - 1s 3ms/step - loss: 0.2430 - accuracy: 0.9326 - val_loss: 0.2674 - val_accuracy: 0.9288\n",
            "Epoch 134/200\n",
            "375/375 [==============================] - 1s 4ms/step - loss: 0.2429 - accuracy: 0.9324 - val_loss: 0.2677 - val_accuracy: 0.9280\n",
            "Epoch 135/200\n",
            "375/375 [==============================] - 1s 3ms/step - loss: 0.2428 - accuracy: 0.9322 - val_loss: 0.2658 - val_accuracy: 0.9296\n",
            "Epoch 136/200\n",
            "375/375 [==============================] - 1s 3ms/step - loss: 0.2426 - accuracy: 0.9323 - val_loss: 0.2666 - val_accuracy: 0.9286\n",
            "Epoch 137/200\n",
            "375/375 [==============================] - 1s 3ms/step - loss: 0.2426 - accuracy: 0.9327 - val_loss: 0.2673 - val_accuracy: 0.9293\n",
            "Epoch 138/200\n",
            "375/375 [==============================] - 1s 4ms/step - loss: 0.2424 - accuracy: 0.9325 - val_loss: 0.2666 - val_accuracy: 0.9286\n",
            "Epoch 139/200\n",
            "375/375 [==============================] - 2s 5ms/step - loss: 0.2422 - accuracy: 0.9325 - val_loss: 0.2684 - val_accuracy: 0.9274\n",
            "Epoch 140/200\n",
            "375/375 [==============================] - 2s 5ms/step - loss: 0.2421 - accuracy: 0.9325 - val_loss: 0.2671 - val_accuracy: 0.9284\n",
            "Epoch 141/200\n",
            "375/375 [==============================] - 1s 4ms/step - loss: 0.2421 - accuracy: 0.9327 - val_loss: 0.2671 - val_accuracy: 0.9279\n",
            "Epoch 142/200\n",
            "375/375 [==============================] - 1s 4ms/step - loss: 0.2420 - accuracy: 0.9329 - val_loss: 0.2671 - val_accuracy: 0.9287\n",
            "Epoch 143/200\n",
            "375/375 [==============================] - 1s 3ms/step - loss: 0.2419 - accuracy: 0.9324 - val_loss: 0.2675 - val_accuracy: 0.9274\n",
            "Epoch 144/200\n",
            "375/375 [==============================] - 1s 3ms/step - loss: 0.2419 - accuracy: 0.9325 - val_loss: 0.2662 - val_accuracy: 0.9289\n",
            "Epoch 145/200\n",
            "375/375 [==============================] - 1s 3ms/step - loss: 0.2417 - accuracy: 0.9324 - val_loss: 0.2669 - val_accuracy: 0.9294\n",
            "Epoch 146/200\n",
            "375/375 [==============================] - 1s 3ms/step - loss: 0.2415 - accuracy: 0.9327 - val_loss: 0.2670 - val_accuracy: 0.9294\n",
            "Epoch 147/200\n",
            "375/375 [==============================] - 1s 3ms/step - loss: 0.2415 - accuracy: 0.9327 - val_loss: 0.2685 - val_accuracy: 0.9287\n",
            "Epoch 148/200\n",
            "375/375 [==============================] - 2s 4ms/step - loss: 0.2415 - accuracy: 0.9325 - val_loss: 0.2672 - val_accuracy: 0.9287\n",
            "Epoch 149/200\n",
            "375/375 [==============================] - 2s 5ms/step - loss: 0.2412 - accuracy: 0.9329 - val_loss: 0.2683 - val_accuracy: 0.9277\n",
            "Epoch 150/200\n",
            "375/375 [==============================] - 1s 3ms/step - loss: 0.2411 - accuracy: 0.9326 - val_loss: 0.2667 - val_accuracy: 0.9287\n",
            "Epoch 151/200\n",
            "375/375 [==============================] - 1s 3ms/step - loss: 0.2412 - accuracy: 0.9333 - val_loss: 0.2676 - val_accuracy: 0.9287\n",
            "Epoch 152/200\n",
            "375/375 [==============================] - 1s 4ms/step - loss: 0.2410 - accuracy: 0.9331 - val_loss: 0.2677 - val_accuracy: 0.9288\n",
            "Epoch 153/200\n",
            "375/375 [==============================] - 1s 4ms/step - loss: 0.2408 - accuracy: 0.9329 - val_loss: 0.2673 - val_accuracy: 0.9289\n",
            "Epoch 154/200\n",
            "375/375 [==============================] - 1s 3ms/step - loss: 0.2409 - accuracy: 0.9332 - val_loss: 0.2676 - val_accuracy: 0.9280\n",
            "Epoch 155/200\n",
            "375/375 [==============================] - 1s 3ms/step - loss: 0.2408 - accuracy: 0.9327 - val_loss: 0.2672 - val_accuracy: 0.9283\n",
            "Epoch 156/200\n",
            "375/375 [==============================] - 1s 4ms/step - loss: 0.2406 - accuracy: 0.9330 - val_loss: 0.2677 - val_accuracy: 0.9276\n",
            "Epoch 157/200\n",
            "375/375 [==============================] - 2s 5ms/step - loss: 0.2405 - accuracy: 0.9330 - val_loss: 0.2672 - val_accuracy: 0.9285\n",
            "Epoch 158/200\n",
            "375/375 [==============================] - 2s 5ms/step - loss: 0.2404 - accuracy: 0.9330 - val_loss: 0.2667 - val_accuracy: 0.9282\n",
            "Epoch 159/200\n",
            "375/375 [==============================] - 1s 4ms/step - loss: 0.2405 - accuracy: 0.9335 - val_loss: 0.2669 - val_accuracy: 0.9284\n",
            "Epoch 160/200\n",
            "375/375 [==============================] - 1s 3ms/step - loss: 0.2402 - accuracy: 0.9336 - val_loss: 0.2672 - val_accuracy: 0.9283\n",
            "Epoch 161/200\n",
            "375/375 [==============================] - 1s 3ms/step - loss: 0.2401 - accuracy: 0.9326 - val_loss: 0.2679 - val_accuracy: 0.9286\n",
            "Epoch 162/200\n",
            "375/375 [==============================] - 1s 4ms/step - loss: 0.2402 - accuracy: 0.9332 - val_loss: 0.2675 - val_accuracy: 0.9287\n",
            "Epoch 163/200\n",
            "375/375 [==============================] - 1s 3ms/step - loss: 0.2398 - accuracy: 0.9332 - val_loss: 0.2682 - val_accuracy: 0.9277\n",
            "Epoch 164/200\n",
            "375/375 [==============================] - 1s 3ms/step - loss: 0.2399 - accuracy: 0.9337 - val_loss: 0.2673 - val_accuracy: 0.9283\n",
            "Epoch 165/200\n",
            "375/375 [==============================] - 1s 4ms/step - loss: 0.2397 - accuracy: 0.9332 - val_loss: 0.2675 - val_accuracy: 0.9287\n",
            "Epoch 166/200\n",
            "375/375 [==============================] - 2s 4ms/step - loss: 0.2397 - accuracy: 0.9332 - val_loss: 0.2676 - val_accuracy: 0.9287\n",
            "Epoch 167/200\n",
            "375/375 [==============================] - 2s 5ms/step - loss: 0.2395 - accuracy: 0.9333 - val_loss: 0.2680 - val_accuracy: 0.9279\n",
            "Epoch 168/200\n",
            "375/375 [==============================] - 1s 4ms/step - loss: 0.2396 - accuracy: 0.9336 - val_loss: 0.2671 - val_accuracy: 0.9287\n",
            "Epoch 169/200\n",
            "375/375 [==============================] - 1s 3ms/step - loss: 0.2397 - accuracy: 0.9333 - val_loss: 0.2669 - val_accuracy: 0.9293\n",
            "Epoch 170/200\n",
            "375/375 [==============================] - 1s 4ms/step - loss: 0.2393 - accuracy: 0.9334 - val_loss: 0.2684 - val_accuracy: 0.9281\n",
            "Epoch 171/200\n",
            "375/375 [==============================] - 1s 4ms/step - loss: 0.2394 - accuracy: 0.9338 - val_loss: 0.2673 - val_accuracy: 0.9280\n",
            "Epoch 172/200\n",
            "375/375 [==============================] - 1s 4ms/step - loss: 0.2393 - accuracy: 0.9333 - val_loss: 0.2676 - val_accuracy: 0.9287\n",
            "Epoch 173/200\n",
            "375/375 [==============================] - 1s 3ms/step - loss: 0.2392 - accuracy: 0.9333 - val_loss: 0.2669 - val_accuracy: 0.9293\n",
            "Epoch 174/200\n",
            "375/375 [==============================] - 1s 4ms/step - loss: 0.2390 - accuracy: 0.9338 - val_loss: 0.2688 - val_accuracy: 0.9282\n",
            "Epoch 175/200\n",
            "375/375 [==============================] - 2s 5ms/step - loss: 0.2390 - accuracy: 0.9334 - val_loss: 0.2683 - val_accuracy: 0.9281\n",
            "Epoch 176/200\n",
            "375/375 [==============================] - 2s 5ms/step - loss: 0.2389 - accuracy: 0.9336 - val_loss: 0.2672 - val_accuracy: 0.9278\n",
            "Epoch 177/200\n",
            "375/375 [==============================] - 1s 4ms/step - loss: 0.2387 - accuracy: 0.9338 - val_loss: 0.2675 - val_accuracy: 0.9292\n",
            "Epoch 178/200\n",
            "375/375 [==============================] - 2s 4ms/step - loss: 0.2389 - accuracy: 0.9334 - val_loss: 0.2674 - val_accuracy: 0.9295\n",
            "Epoch 179/200\n",
            "375/375 [==============================] - 1s 4ms/step - loss: 0.2386 - accuracy: 0.9335 - val_loss: 0.2677 - val_accuracy: 0.9282\n",
            "Epoch 180/200\n",
            "375/375 [==============================] - 1s 4ms/step - loss: 0.2385 - accuracy: 0.9337 - val_loss: 0.2675 - val_accuracy: 0.9287\n",
            "Epoch 181/200\n",
            "375/375 [==============================] - 1s 4ms/step - loss: 0.2384 - accuracy: 0.9340 - val_loss: 0.2674 - val_accuracy: 0.9292\n",
            "Epoch 182/200\n",
            "375/375 [==============================] - 1s 3ms/step - loss: 0.2384 - accuracy: 0.9340 - val_loss: 0.2684 - val_accuracy: 0.9279\n",
            "Epoch 183/200\n",
            "375/375 [==============================] - 1s 3ms/step - loss: 0.2384 - accuracy: 0.9336 - val_loss: 0.2689 - val_accuracy: 0.9279\n",
            "Epoch 184/200\n",
            "375/375 [==============================] - 2s 5ms/step - loss: 0.2383 - accuracy: 0.9336 - val_loss: 0.2674 - val_accuracy: 0.9287\n",
            "Epoch 185/200\n",
            "375/375 [==============================] - 2s 5ms/step - loss: 0.2383 - accuracy: 0.9335 - val_loss: 0.2675 - val_accuracy: 0.9282\n",
            "Epoch 186/200\n",
            "375/375 [==============================] - 1s 3ms/step - loss: 0.2381 - accuracy: 0.9337 - val_loss: 0.2695 - val_accuracy: 0.9279\n",
            "Epoch 187/200\n",
            "375/375 [==============================] - 1s 3ms/step - loss: 0.2380 - accuracy: 0.9336 - val_loss: 0.2675 - val_accuracy: 0.9293\n",
            "Epoch 188/200\n",
            "375/375 [==============================] - 1s 3ms/step - loss: 0.2380 - accuracy: 0.9337 - val_loss: 0.2678 - val_accuracy: 0.9287\n",
            "Epoch 189/200\n",
            "375/375 [==============================] - 1s 4ms/step - loss: 0.2379 - accuracy: 0.9336 - val_loss: 0.2683 - val_accuracy: 0.9290\n",
            "Epoch 190/200\n",
            "375/375 [==============================] - 1s 4ms/step - loss: 0.2377 - accuracy: 0.9342 - val_loss: 0.2683 - val_accuracy: 0.9285\n",
            "Epoch 191/200\n",
            "375/375 [==============================] - 1s 4ms/step - loss: 0.2377 - accuracy: 0.9336 - val_loss: 0.2692 - val_accuracy: 0.9270\n",
            "Epoch 192/200\n",
            "375/375 [==============================] - 1s 3ms/step - loss: 0.2375 - accuracy: 0.9336 - val_loss: 0.2685 - val_accuracy: 0.9281\n",
            "Epoch 193/200\n",
            "375/375 [==============================] - 2s 5ms/step - loss: 0.2377 - accuracy: 0.9344 - val_loss: 0.2687 - val_accuracy: 0.9281\n",
            "Epoch 194/200\n",
            "375/375 [==============================] - 2s 4ms/step - loss: 0.2375 - accuracy: 0.9343 - val_loss: 0.2684 - val_accuracy: 0.9278\n",
            "Epoch 195/200\n",
            "375/375 [==============================] - 1s 4ms/step - loss: 0.2374 - accuracy: 0.9339 - val_loss: 0.2684 - val_accuracy: 0.9279\n",
            "Epoch 196/200\n",
            "375/375 [==============================] - 1s 4ms/step - loss: 0.2375 - accuracy: 0.9342 - val_loss: 0.2679 - val_accuracy: 0.9286\n",
            "Epoch 197/200\n",
            "375/375 [==============================] - 1s 4ms/step - loss: 0.2371 - accuracy: 0.9338 - val_loss: 0.2690 - val_accuracy: 0.9262\n",
            "Epoch 198/200\n",
            "375/375 [==============================] - 1s 3ms/step - loss: 0.2371 - accuracy: 0.9342 - val_loss: 0.2678 - val_accuracy: 0.9285\n",
            "Epoch 199/200\n",
            "375/375 [==============================] - 1s 4ms/step - loss: 0.2372 - accuracy: 0.9338 - val_loss: 0.2692 - val_accuracy: 0.9273\n",
            "Epoch 200/200\n",
            "375/375 [==============================] - 1s 4ms/step - loss: 0.2372 - accuracy: 0.9341 - val_loss: 0.2683 - val_accuracy: 0.9289\n"
          ]
        }
      ],
      "source": [
        "#train the network\n",
        "history = model.fit(input_X_train, output_Y_train, batch_size=BATCH_SIZE, epochs=N_EPOCH, verbose=VERBOSE, validation_split=VALIDATION_SPLIT)\n",
        "\n"
      ]
    },
    {
      "cell_type": "markdown",
      "metadata": {
        "id": "2MpCg_YTMP17"
      },
      "source": [
        "**Looking at the results of the trained network**\n",
        "\n",
        "Let's evaluate the model to see how well it has learned ( or not) the MNIST problem."
      ]
    },
    {
      "cell_type": "code",
      "execution_count": 7,
      "metadata": {
        "id": "ZN9rro7KMP19",
        "outputId": "675cc74c-cc09-4f60-f7c6-d7d8832eb952",
        "colab": {
          "base_uri": "https://localhost:8080/"
        }
      },
      "outputs": [
        {
          "output_type": "stream",
          "name": "stdout",
          "text": [
            "313/313 [==============================] - 1s 2ms/step - loss: 0.2693 - accuracy: 0.9256\n",
            "\n",
            "Test score/loss: 0.2692626118659973\n",
            "Test accuracy: 0.925599992275238\n"
          ]
        }
      ],
      "source": [
        "#test the network using the generalisation test dataset\n",
        "score = model.evaluate(input_X_test, output_Y_test, verbose=VERBOSE)\n",
        "print(\"\\nTest score/loss:\", score[0])\n",
        "print(\"Test accuracy:\", score[1])\n"
      ]
    },
    {
      "cell_type": "markdown",
      "metadata": {
        "id": "GZuRJvfwMP2K"
      },
      "source": [
        "Training the Multi-Layer Perceptron\n",
        "=========\n",
        "**Defining the network: Multi-Layer Perceptron**\n",
        "\n",
        "We will now create a multi-layer perceptron with 784 input units, two hidden layers with 128 hidden units each, and an output layer with the 10 units.\n",
        "\n"
      ]
    },
    {
      "cell_type": "code",
      "execution_count": 8,
      "metadata": {
        "id": "HoF0ib-SMP2N",
        "outputId": "8477b6ea-4f20-4b61-942d-3df0f038496c",
        "colab": {
          "base_uri": "https://localhost:8080/"
        }
      },
      "outputs": [
        {
          "output_type": "stream",
          "name": "stdout",
          "text": [
            "Model: \"sequential_1\"\n",
            "_________________________________________________________________\n",
            " Layer (type)                Output Shape              Param #   \n",
            "=================================================================\n",
            " dense_1 (Dense)             (None, 128)               100480    \n",
            "                                                                 \n",
            " activation_1 (Activation)   (None, 128)               0         \n",
            "                                                                 \n",
            " dense_2 (Dense)             (None, 128)               16512     \n",
            "                                                                 \n",
            " activation_2 (Activation)   (None, 128)               0         \n",
            "                                                                 \n",
            " dense_3 (Dense)             (None, 10)                1290      \n",
            "                                                                 \n",
            " activation_3 (Activation)   (None, 10)                0         \n",
            "                                                                 \n",
            "=================================================================\n",
            "Total params: 118,282\n",
            "Trainable params: 118,282\n",
            "Non-trainable params: 0\n",
            "_________________________________________________________________\n"
          ]
        }
      ],
      "source": [
        "N_EPOCH = 20 # we need fewer epoch than before, as the multi-layer percetpron can learn faster.\n",
        "N_HIDDEN = 128\n",
        "\n",
        "model = Sequential()\n",
        "\n",
        "# Hidden layer 1 with 128 hidden units and ReLu activation function\n",
        "model.add(Dense(N_HIDDEN, input_shape=(RESHAPED,)))\n",
        "model.add(Activation('relu'))\n",
        "# Hidden layer 2 with 128 hidden units and ReLu activation function\n",
        "model.add(Dense(N_HIDDEN))\n",
        "model.add(Activation('relu'))\n",
        "\n",
        "# output layer with 10 units and softmax activation\n",
        "model.add(Dense(N_CLASSES))\n",
        "model.add(Activation('softmax'))\n",
        "\n",
        "# Summary of the whole model\n",
        "model.summary()\n",
        "\n",
        "# model compilation\n",
        "model.compile(loss='categorical_crossentropy', optimizer=OPTIMIZER, metrics=['accuracy'])"
      ]
    },
    {
      "cell_type": "markdown",
      "metadata": {
        "id": "OgYzi3hyMP2V"
      },
      "source": [
        "**Let's train the mulri-layer perceptron network**\n",
        "\n",
        "Let's now train (fit) the network with the above-defined batch size (128), and number of epochs (20)."
      ]
    },
    {
      "cell_type": "code",
      "execution_count": 9,
      "metadata": {
        "id": "iNa3cmoaMP2X",
        "outputId": "435e74d9-27a1-4572-9676-33e5423bede5",
        "colab": {
          "base_uri": "https://localhost:8080/"
        }
      },
      "outputs": [
        {
          "output_type": "stream",
          "name": "stdout",
          "text": [
            "Epoch 1/20\n",
            "375/375 [==============================] - 4s 8ms/step - loss: 0.4974 - accuracy: 0.8601 - val_loss: 0.2545 - val_accuracy: 0.9280\n",
            "Epoch 2/20\n",
            "375/375 [==============================] - 2s 6ms/step - loss: 0.2359 - accuracy: 0.9310 - val_loss: 0.1960 - val_accuracy: 0.9459\n",
            "Epoch 3/20\n",
            "375/375 [==============================] - 2s 6ms/step - loss: 0.1785 - accuracy: 0.9481 - val_loss: 0.1659 - val_accuracy: 0.9523\n",
            "Epoch 4/20\n",
            "375/375 [==============================] - 2s 6ms/step - loss: 0.1445 - accuracy: 0.9579 - val_loss: 0.1396 - val_accuracy: 0.9614\n",
            "Epoch 5/20\n",
            "375/375 [==============================] - 2s 5ms/step - loss: 0.1222 - accuracy: 0.9645 - val_loss: 0.1250 - val_accuracy: 0.9651\n",
            "Epoch 6/20\n",
            "375/375 [==============================] - 3s 8ms/step - loss: 0.1048 - accuracy: 0.9692 - val_loss: 0.1213 - val_accuracy: 0.9654\n",
            "Epoch 7/20\n",
            "375/375 [==============================] - 2s 5ms/step - loss: 0.0914 - accuracy: 0.9734 - val_loss: 0.1116 - val_accuracy: 0.9686\n",
            "Epoch 8/20\n",
            "375/375 [==============================] - 2s 6ms/step - loss: 0.0816 - accuracy: 0.9765 - val_loss: 0.1068 - val_accuracy: 0.9708\n",
            "Epoch 9/20\n",
            "375/375 [==============================] - 2s 5ms/step - loss: 0.0725 - accuracy: 0.9790 - val_loss: 0.1034 - val_accuracy: 0.9718\n",
            "Epoch 10/20\n",
            "375/375 [==============================] - 2s 5ms/step - loss: 0.0648 - accuracy: 0.9816 - val_loss: 0.0991 - val_accuracy: 0.9713\n",
            "Epoch 11/20\n",
            "375/375 [==============================] - 2s 6ms/step - loss: 0.0583 - accuracy: 0.9829 - val_loss: 0.0939 - val_accuracy: 0.9737\n",
            "Epoch 12/20\n",
            "375/375 [==============================] - 3s 8ms/step - loss: 0.0525 - accuracy: 0.9852 - val_loss: 0.0944 - val_accuracy: 0.9733\n",
            "Epoch 13/20\n",
            "375/375 [==============================] - 2s 5ms/step - loss: 0.0466 - accuracy: 0.9864 - val_loss: 0.1080 - val_accuracy: 0.9691\n",
            "Epoch 14/20\n",
            "375/375 [==============================] - 2s 5ms/step - loss: 0.0424 - accuracy: 0.9882 - val_loss: 0.0902 - val_accuracy: 0.9737\n",
            "Epoch 15/20\n",
            "375/375 [==============================] - 2s 5ms/step - loss: 0.0381 - accuracy: 0.9894 - val_loss: 0.0879 - val_accuracy: 0.9762\n",
            "Epoch 16/20\n",
            "375/375 [==============================] - 2s 5ms/step - loss: 0.0348 - accuracy: 0.9907 - val_loss: 0.0880 - val_accuracy: 0.9747\n",
            "Epoch 17/20\n",
            "375/375 [==============================] - 3s 8ms/step - loss: 0.0313 - accuracy: 0.9913 - val_loss: 0.0946 - val_accuracy: 0.9735\n",
            "Epoch 18/20\n",
            "375/375 [==============================] - 2s 6ms/step - loss: 0.0282 - accuracy: 0.9928 - val_loss: 0.0920 - val_accuracy: 0.9743\n",
            "Epoch 19/20\n",
            "375/375 [==============================] - 2s 5ms/step - loss: 0.0253 - accuracy: 0.9937 - val_loss: 0.0891 - val_accuracy: 0.9748\n",
            "Epoch 20/20\n",
            "375/375 [==============================] - 2s 5ms/step - loss: 0.0231 - accuracy: 0.9944 - val_loss: 0.0883 - val_accuracy: 0.9753\n"
          ]
        }
      ],
      "source": [
        "#train the network\n",
        "history = model.fit(input_X_train, output_Y_train, batch_size=BATCH_SIZE, epochs=N_EPOCH, verbose=VERBOSE, validation_split=VALIDATION_SPLIT)\n"
      ]
    },
    {
      "cell_type": "markdown",
      "metadata": {
        "id": "kV5v4LNjMP2e"
      },
      "source": [
        "**Looking at the results of the trained network**\n",
        "\n",
        "Let's explotre the results both for the score and accuracy values, as well as to visualise the plots of these values during the training."
      ]
    },
    {
      "cell_type": "code",
      "execution_count": 10,
      "metadata": {
        "id": "CXpu8p9uMP2f",
        "outputId": "7a5bfb8b-714e-4803-f441-d6bc64a79d83",
        "colab": {
          "base_uri": "https://localhost:8080/"
        }
      },
      "outputs": [
        {
          "output_type": "stream",
          "name": "stdout",
          "text": [
            "313/313 [==============================] - 1s 3ms/step - loss: 0.0735 - accuracy: 0.9772\n",
            "\n",
            "Test score/loss: 0.07345282286405563\n",
            "Test accuracy: 0.9771999716758728\n"
          ]
        }
      ],
      "source": [
        "#test the network\n",
        "score = model.evaluate(input_X_test, output_Y_test, verbose=VERBOSE)\n",
        "print(\"\\nTest score/loss:\", score[0])\n",
        "print(\"Test accuracy:\", score[1])"
      ]
    },
    {
      "cell_type": "code",
      "execution_count": 11,
      "metadata": {
        "id": "yYRZkVf6MP2t",
        "outputId": "27462111-e506-4f84-c32c-503e3a37d912",
        "colab": {
          "base_uri": "https://localhost:8080/",
          "height": 312
        }
      },
      "outputs": [
        {
          "output_type": "stream",
          "name": "stdout",
          "text": [
            "dict_keys(['loss', 'accuracy', 'val_loss', 'val_accuracy'])\n"
          ]
        },
        {
          "output_type": "display_data",
          "data": {
            "text/plain": [
              "<Figure size 432x288 with 1 Axes>"
            ],
            "image/png": "[encoded data removed]"
          },
          "metadata": {
            "needs_background": "light"
          }
        }
      ],
      "source": [
        "# list all data in history\n",
        "print(history.history.keys())\n",
        "# summarize history for accuracy\n",
        "plt.plot(history.history['accuracy'])\n",
        "plt.plot(history.history['val_accuracy'])\n",
        "plt.title('model accuracy')\n",
        "plt.ylabel('accuracy')\n",
        "plt.xlabel('epoch')\n",
        "plt.legend(['train', 'test'], loc='upper left')\n",
        "plt.show()\n"
      ]
    },
    {
      "cell_type": "code",
      "execution_count": 12,
      "metadata": {
        "id": "MJ9YbKviMP2z",
        "outputId": "93218319-a466-4f98-eb31-c2facabdabe7",
        "colab": {
          "base_uri": "https://localhost:8080/",
          "height": 295
        }
      },
      "outputs": [
        {
          "output_type": "display_data",
          "data": {
            "text/plain": [
              "<Figure size 432x288 with 1 Axes>"
            ],
            "image/png": "[encoded data removed]"
          },
          "metadata": {
            "needs_background": "light"
          }
        }
      ],
      "source": [
        "# summarize history for loss\n",
        "plt.plot(history.history['loss'])\n",
        "plt.plot(history.history['val_loss'])\n",
        "plt.title('model loss')\n",
        "plt.ylabel('loss')\n",
        "plt.xlabel('epoch')\n",
        "plt.legend(['train', 'test'], loc='upper left')\n",
        "plt.show()"
      ]
    },
    {
      "cell_type": "markdown",
      "metadata": {
        "id": "CV-aShF1MP24"
      },
      "source": [
        "**Adding weight droputs**\n",
        "\n",
        "An efficient way to reduce the number of parameters (weights) to be trained, as well as to increase generalisation capabilities, is to randomly remove (i.e. __dropout__) a certain proportion of the nodes at random in each epoch."
      ]
    },
    {
      "cell_type": "code",
      "execution_count": 13,
      "metadata": {
        "id": "4GNrMiVoMP25",
        "outputId": "a40cd69b-2e5e-4a63-f894-081281b34987",
        "colab": {
          "base_uri": "https://localhost:8080/"
        }
      },
      "outputs": [
        {
          "output_type": "stream",
          "name": "stdout",
          "text": [
            "Model: \"sequential_2\"\n",
            "_________________________________________________________________\n",
            " Layer (type)                Output Shape              Param #   \n",
            "=================================================================\n",
            " dense_4 (Dense)             (None, 128)               100480    \n",
            "                                                                 \n",
            " activation_4 (Activation)   (None, 128)               0         \n",
            "                                                                 \n",
            " dropout (Dropout)           (None, 128)               0         \n",
            "                                                                 \n",
            " dense_5 (Dense)             (None, 128)               16512     \n",
            "                                                                 \n",
            " activation_5 (Activation)   (None, 128)               0         \n",
            "                                                                 \n",
            " dropout_1 (Dropout)         (None, 128)               0         \n",
            "                                                                 \n",
            " dense_6 (Dense)             (None, 10)                1290      \n",
            "                                                                 \n",
            " activation_6 (Activation)   (None, 10)                0         \n",
            "                                                                 \n",
            "=================================================================\n",
            "Total params: 118,282\n",
            "Trainable params: 118,282\n",
            "Non-trainable params: 0\n",
            "_________________________________________________________________\n"
          ]
        }
      ],
      "source": [
        "# import the dropout layer type\n",
        "from tensorflow.keras.layers import Dropout\n",
        "\n",
        "# Probability of weights dropout\n",
        "P_DROPOUT = 0.3\n",
        "\n",
        "# We can increse this parameter afterwards\n",
        "N_EPOCH = 20\n",
        "\n",
        "model = Sequential()\n",
        "model.add(Dense(N_HIDDEN, input_shape=(RESHAPED,)))\n",
        "model.add(Activation('relu'))\n",
        "model.add(Dropout(P_DROPOUT))\n",
        "model.add(Dense(N_HIDDEN))\n",
        "model.add(Activation('relu'))\n",
        "model.add(Dropout(P_DROPOUT))\n",
        "model.add(Dense(N_CLASSES))\n",
        "model.add(Activation('softmax'))\n",
        "\n",
        "# model compilation\n",
        "model.summary()\n",
        "\n",
        "# model compilation\n",
        "model.compile(loss='categorical_crossentropy', optimizer=OPTIMIZER, metrics=['accuracy'])\n"
      ]
    },
    {
      "cell_type": "markdown",
      "metadata": {
        "id": "NBJJWwueMP2-"
      },
      "source": [
        "**Let's train the multi-layer perceptron network with DROPOUT**\n",
        "\n",
        "Let's now train (fit) the above dropout network with the above-defined batch size (128), and number of epochs (250)."
      ]
    },
    {
      "cell_type": "code",
      "execution_count": 14,
      "metadata": {
        "id": "Xqa-9UHxMP3A",
        "outputId": "cdfbeedc-9c28-42fc-a1a2-838e2e397c42",
        "colab": {
          "base_uri": "https://localhost:8080/"
        }
      },
      "outputs": [
        {
          "output_type": "stream",
          "name": "stdout",
          "text": [
            "Epoch 1/20\n",
            "375/375 [==============================] - 4s 9ms/step - loss: 0.6919 - accuracy: 0.7872 - val_loss: 0.2683 - val_accuracy: 0.9227\n",
            "Epoch 2/20\n",
            "375/375 [==============================] - 2s 6ms/step - loss: 0.3419 - accuracy: 0.8996 - val_loss: 0.1998 - val_accuracy: 0.9420\n",
            "Epoch 3/20\n",
            "375/375 [==============================] - 2s 6ms/step - loss: 0.2731 - accuracy: 0.9199 - val_loss: 0.1668 - val_accuracy: 0.9516\n",
            "Epoch 4/20\n",
            "375/375 [==============================] - 2s 6ms/step - loss: 0.2343 - accuracy: 0.9310 - val_loss: 0.1495 - val_accuracy: 0.9566\n",
            "Epoch 5/20\n",
            "375/375 [==============================] - 3s 8ms/step - loss: 0.2091 - accuracy: 0.9390 - val_loss: 0.1353 - val_accuracy: 0.9602\n",
            "Epoch 6/20\n",
            "375/375 [==============================] - 3s 7ms/step - loss: 0.1861 - accuracy: 0.9451 - val_loss: 0.1250 - val_accuracy: 0.9628\n",
            "Epoch 7/20\n",
            "375/375 [==============================] - 2s 6ms/step - loss: 0.1709 - accuracy: 0.9495 - val_loss: 0.1171 - val_accuracy: 0.9653\n",
            "Epoch 8/20\n",
            "375/375 [==============================] - 2s 6ms/step - loss: 0.1578 - accuracy: 0.9539 - val_loss: 0.1125 - val_accuracy: 0.9674\n",
            "Epoch 9/20\n",
            "375/375 [==============================] - 2s 6ms/step - loss: 0.1485 - accuracy: 0.9567 - val_loss: 0.1078 - val_accuracy: 0.9673\n",
            "Epoch 10/20\n",
            "375/375 [==============================] - 3s 8ms/step - loss: 0.1411 - accuracy: 0.9577 - val_loss: 0.1010 - val_accuracy: 0.9698\n",
            "Epoch 11/20\n",
            "375/375 [==============================] - 3s 7ms/step - loss: 0.1322 - accuracy: 0.9612 - val_loss: 0.0981 - val_accuracy: 0.9709\n",
            "Epoch 12/20\n",
            "375/375 [==============================] - 2s 6ms/step - loss: 0.1279 - accuracy: 0.9617 - val_loss: 0.0950 - val_accuracy: 0.9720\n",
            "Epoch 13/20\n",
            "375/375 [==============================] - 2s 6ms/step - loss: 0.1216 - accuracy: 0.9637 - val_loss: 0.0941 - val_accuracy: 0.9722\n",
            "Epoch 14/20\n",
            "375/375 [==============================] - 2s 6ms/step - loss: 0.1159 - accuracy: 0.9660 - val_loss: 0.0925 - val_accuracy: 0.9719\n",
            "Epoch 15/20\n",
            "375/375 [==============================] - 3s 7ms/step - loss: 0.1107 - accuracy: 0.9669 - val_loss: 0.0902 - val_accuracy: 0.9742\n",
            "Epoch 16/20\n",
            "375/375 [==============================] - 3s 8ms/step - loss: 0.1067 - accuracy: 0.9675 - val_loss: 0.0890 - val_accuracy: 0.9741\n",
            "Epoch 17/20\n",
            "375/375 [==============================] - 2s 6ms/step - loss: 0.1031 - accuracy: 0.9686 - val_loss: 0.0862 - val_accuracy: 0.9754\n",
            "Epoch 18/20\n",
            "375/375 [==============================] - 2s 6ms/step - loss: 0.0974 - accuracy: 0.9701 - val_loss: 0.0862 - val_accuracy: 0.9747\n",
            "Epoch 19/20\n",
            "375/375 [==============================] - 2s 6ms/step - loss: 0.0977 - accuracy: 0.9696 - val_loss: 0.0861 - val_accuracy: 0.9747\n",
            "Epoch 20/20\n",
            "375/375 [==============================] - 3s 7ms/step - loss: 0.0928 - accuracy: 0.9704 - val_loss: 0.0862 - val_accuracy: 0.9758\n"
          ]
        }
      ],
      "source": [
        "#train the network\n",
        "history = model.fit(input_X_train, output_Y_train, batch_size=BATCH_SIZE, epochs=N_EPOCH, verbose=VERBOSE, validation_split=VALIDATION_SPLIT)\n"
      ]
    },
    {
      "cell_type": "markdown",
      "metadata": {
        "id": "x-z1NP88MP3I"
      },
      "source": [
        "**Looking at the results of the trained dropout network**\n",
        "\n",
        "Let's explore the effects of adding the weight dropout on the network performance.\n",
        "\n",
        "You can see that the dropout has further improved our results."
      ]
    },
    {
      "cell_type": "code",
      "execution_count": 15,
      "metadata": {
        "id": "K8qIacDmMP3N",
        "outputId": "abbb52c6-4900-498a-d3cc-8219ed1f48b0",
        "colab": {
          "base_uri": "https://localhost:8080/",
          "height": 382
        }
      },
      "outputs": [
        {
          "output_type": "stream",
          "name": "stdout",
          "text": [
            "313/313 [==============================] - 1s 3ms/step - loss: 0.0785 - accuracy: 0.9768\n",
            "\n",
            "Test score: 0.07851002365350723\n",
            "Test accuracy: 0.9768000245094299\n",
            "dict_keys(['loss', 'accuracy', 'val_loss', 'val_accuracy'])\n"
          ]
        },
        {
          "output_type": "display_data",
          "data": {
            "text/plain": [
              "<Figure size 432x288 with 1 Axes>"
            ],
            "image/png": "[encoded data removed]"
          },
          "metadata": {
            "needs_background": "light"
          }
        }
      ],
      "source": [
        "#test the network\n",
        "score = model.evaluate(input_X_test, output_Y_test, verbose=VERBOSE)\n",
        "print(\"\\nTest score:\", score[0])\n",
        "print(\"Test accuracy:\", score[1])\n",
        "\n",
        "# list all data in history\n",
        "print(history.history.keys())\n",
        "\n",
        "# summarize history for accuracy\n",
        "plt.plot(history.history['accuracy'])\n",
        "plt.plot(history.history['val_accuracy'])\n",
        "plt.title('model accuracy')\n",
        "plt.ylabel('accuracy')\n",
        "plt.xlabel('epoch')\n",
        "plt.legend(['train', 'test'], loc='upper left')\n",
        "plt.show()"
      ]
    },
    {
      "cell_type": "markdown",
      "metadata": {
        "id": "8IUIcenlMP3S"
      },
      "source": [
        "Exploring Training Hyperparameters\n",
        "-------------\n",
        "\n",
        "You can explore the role of various hyperparameters to see how you can further improve the MLP model's performance on the MNIST dataset. \n",
        "\n",
        "For example, if you increase the number of epochs for the dropout network to 250, you will see that the test and train accuracy errors will converge (accuracy closer to 97% for both training and test), which means that we have achieved the best tradeoff between training and testing.\n",
        "\n",
        "You can carry out many additional simulations on hypeparameter exploration where you can try for example:\n",
        "\n",
        "- different number of epochs\n",
        "- different learning rate\n",
        "- different number of hidden nodes \n",
        "- different proportion of dropout rates \n",
        "- different optimisers in addition to SGD (e.g. RMSprop, Adam) \n",
        "- different batch size \n",
        "\n",
        "This final exercise will constitute the first neural network coursework. See Coursework specification documenty for more details.\n"
      ]
    },
    {
      "cell_type": "markdown",
      "metadata": {
        "id": "uPKj5NAdMP3T"
      },
      "source": [
        "Conclusions\n",
        "-------------\n",
        "\n",
        "With this tutorial we have practiced the training of both a Simple Perceptron, and a Multi-Layer Perceptron, with a benchmark dataset containing images of handwritten numbers.\n",
        "This helped us understand how to load the datase, visualise it, and visualise the training history and the effects of adding hidden layers and then adding weight dropout.\n",
        "\n",
        "**Copyright (c)** 2022 Angelo Cangelosi, MIT License. Code and examples adapted from Gulli & Pal (2017) Deep Learning with Keras. Punkt Publishing. With further contribution from Wenjie Huang."
      ]
    }
  ],
  "metadata": {
    "colab": {
      "provenance": [],
      "include_colab_link": true
    },
    "kernelspec": {
      "display_name": "Python 3",
      "language": "python",
      "name": "python3"
    },
    "language_info": {
      "codemirror_mode": {
        "name": "ipython",
        "version": 3
      },
      "file_extension": ".py",
      "mimetype": "text/x-python",
      "name": "python",
      "nbconvert_exporter": "python",
      "pygments_lexer": "ipython3",
      "version": "3.6.12"
    }
  },
  "nbformat": 4,
  "nbformat_minor": 0
}